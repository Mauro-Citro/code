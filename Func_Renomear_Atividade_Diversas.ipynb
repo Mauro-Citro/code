{
 "cells": [
  {
   "cell_type": "markdown",
   "id": "5f7aca88-471c-4f04-8a98-64c7bb611bd0",
   "metadata": {},
   "source": [
    "## Função para Renomear Atividades Diversas"
   ]
  },
  {
   "cell_type": "code",
   "execution_count": 1,
   "id": "0dafb245-fd50-4651-bee5-9b7af51037dc",
   "metadata": {},
   "outputs": [],
   "source": [
    "import fitz\n",
    "import os\n",
    "### Funções para \n",
    "import pandas as pd\n",
    "\n",
    "def nomeatv(arquivo):\n",
    "    doc=fitz.open(arquivo)\n",
    "    page1 = doc[0]\n",
    "    lista=page1.get_text().split('\\n')\n",
    "    nome = \"ATVDIV_\"+lista[0].replace('Defensor(a): ', '').replace(' ', '_')+\"_\"+lista[3].split(' - ')[2].split(' à ')[0].replace('/','_')\n",
    "    return nome"
   ]
  },
  {
   "cell_type": "code",
   "execution_count": null,
   "id": "1f2b95f8-aec3-4a34-9d8e-494892c852a7",
   "metadata": {},
   "outputs": [],
   "source": []
  },
  {
   "cell_type": "code",
   "execution_count": 4,
   "id": "744c4ded-8a67-40ef-9827-570b2107f839",
   "metadata": {},
   "outputs": [],
   "source": [
    "DB_rename = os.listdir('.')\n",
    "DB_rename = [texto for texto in DB_rename if '.pdf' in texto]\n",
    "lista=[]\n",
    "\n",
    "for i in DB_rename:\n",
    "    lista.append(nomeatv(i))\n",
    "    \n",
    "for i in range(0,len(DB_rename)):\n",
    "    os.rename(DB_rename[i],lista[i]+\".pdf\")"
   ]
  },
  {
   "cell_type": "code",
   "execution_count": null,
   "id": "2bdd8005-8d90-48b0-bed8-8257a53684ac",
   "metadata": {},
   "outputs": [],
   "source": [
    "for index, row in df.iterrows():\n",
    "    prin"
   ]
  }
 ],
 "metadata": {
  "kernelspec": {
   "display_name": "Python 3 (ipykernel)",
   "language": "python",
   "name": "python3"
  },
  "language_info": {
   "codemirror_mode": {
    "name": "ipython",
    "version": 3
   },
   "file_extension": ".py",
   "mimetype": "text/x-python",
   "name": "python",
   "nbconvert_exporter": "python",
   "pygments_lexer": "ipython3",
   "version": "3.9.13"
  }
 },
 "nbformat": 4,
 "nbformat_minor": 5
}
